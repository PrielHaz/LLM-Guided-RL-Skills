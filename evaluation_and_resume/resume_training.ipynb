{
 "cells": [
  {
   "cell_type": "code",
   "execution_count": null,
   "metadata": {},
   "outputs": [],
   "source": [
    "# To be implemented in the future.\n",
    "\n",
    "# Load the model, print how many num_timesteps trained\n",
    "# and see how much more you like to train, then load its run_args\n",
    "# from its exp dir to resume training."
   ]
  }
 ],
 "metadata": {
  "kernelspec": {
   "display_name": "UbuntuDec24",
   "language": "python",
   "name": "python3"
  },
  "language_info": {
   "name": "python",
   "version": "3.10.15"
  }
 },
 "nbformat": 4,
 "nbformat_minor": 2
}
